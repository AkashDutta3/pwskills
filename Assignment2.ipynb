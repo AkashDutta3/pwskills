{
 "cells": [
  {
   "cell_type": "code",
   "execution_count": 8,
   "id": "636f5462-2fd2-4f57-82f3-06d85b244308",
   "metadata": {},
   "outputs": [],
   "source": [
    "#Q1\n",
    "\"\"\"def keyword is used to create a function\"\"\"\n",
    "def f():\n",
    "    l=[]\n",
    "    for i in range(1,26):\n",
    "        if (i%2!=0):\n",
    "            l.append(i)\n",
    "    return l   \n",
    "l1=list(range(1,26))\n",
    "l2=[i for i in l1 if i%2!=0]"
   ]
  },
  {
   "cell_type": "code",
   "execution_count": 15,
   "id": "6d7653d7-2c10-4c0d-9542-1bc19a8ec9f1",
   "metadata": {},
   "outputs": [
    {
     "name": "stdout",
     "output_type": "stream",
     "text": [
      "[1, 3, 5, 7, 9, 11, 13, 15, 17, 19, 21, 23, 25]\n",
      "[1, 2, 3, 4, 5, 6, 7, 8, 9, 10, 11, 12, 13, 14, 15, 16, 17, 18, 19, 20, 21, 22, 23, 24, 25]\n",
      "[1, 3, 5, 7, 9, 11, 13, 15, 17, 19, 21, 23, 25]\n"
     ]
    }
   ],
   "source": [
    "m=f()\n",
    "print(m)\n",
    "print(l1)\n",
    "print(l2)"
   ]
  },
  {
   "cell_type": "code",
   "execution_count": 18,
   "id": "b904030f-695b-4f28-ae3e-d16a5aad45a3",
   "metadata": {},
   "outputs": [
    {
     "name": "stdout",
     "output_type": "stream",
     "text": [
      "14\n"
     ]
    }
   ],
   "source": [
    "#Q2\n",
    "'''*args is used so that a function can accept variable number of arguments '''\n",
    "'''**kwargs is used so that a  function can accept variable number of keyword arguments'''\n",
    "##function to add numbers\n",
    "def sum(*args):\n",
    "    ans=0\n",
    "    for i in args:\n",
    "        ans+=i\n",
    "    return ans\n",
    "print(sum(2,3,4,5))"
   ]
  },
  {
   "cell_type": "code",
   "execution_count": 20,
   "id": "18076af7-816a-4076-8d3f-c70a28204050",
   "metadata": {},
   "outputs": [
    {
     "data": {
      "text/plain": [
       "17"
      ]
     },
     "execution_count": 20,
     "metadata": {},
     "output_type": "execute_result"
    }
   ],
   "source": [
    "#Q2\n",
    "##function to calculate total number of fruits using **kwargs\n",
    "def total_fruits(**kwargs):\n",
    "    total=0\n",
    "    for i in kwargs.values():\n",
    "        total+=i\n",
    "    return total\n",
    "total_fruits(banana=7,apple=9,mango=1)"
   ]
  },
  {
   "cell_type": "code",
   "execution_count": 2,
   "id": "802719c1-2482-4f36-8d7c-d237da31b3d9",
   "metadata": {},
   "outputs": [
    {
     "name": "stdout",
     "output_type": "stream",
     "text": [
      "2\n",
      "4\n",
      "6\n",
      "8\n",
      "10\n"
     ]
    }
   ],
   "source": [
    "#Q3\n",
    "'''iterator is an object that help us to iterate over another object(that is an iterable)'''\n",
    "'''the iter() method is used to initialise an iterator'''\n",
    "'''the next() method is used to iterate an iterator'''\n",
    "l=[2, 4, 6, 8, 10, 12, 14,16, 18, 20]\n",
    "l1=iter(l)\n",
    "for i in range(5):\n",
    "    print(next(l1))"
   ]
  },
  {
   "cell_type": "code",
   "execution_count": 5,
   "id": "797a4fc2-6834-4e14-972f-011d28a3aca5",
   "metadata": {},
   "outputs": [
    {
     "name": "stdout",
     "output_type": "stream",
     "text": [
      "2\n",
      "4\n",
      "6\n"
     ]
    }
   ],
   "source": [
    "#Q4\n",
    "'''Generator function is a function which returns an iterator that can be iterated over\n",
    "It is used to return a sequence of values without storing them in the memory all at once'''\n",
    "'''Yield keyword is used in generator fuctiions'''\n",
    "#example of generator function\n",
    "def even_num_generator():\n",
    "    a=2\n",
    "    while True:\n",
    "        yield a\n",
    "        a=a+2\n",
    "t=even_num_generator()        \n",
    "for i in range(3):\n",
    "    print(next(t))"
   ]
  },
  {
   "cell_type": "code",
   "execution_count": 9,
   "id": "aa73228a-7253-450e-bfa7-06ba587f633d",
   "metadata": {},
   "outputs": [
    {
     "name": "stdout",
     "output_type": "stream",
     "text": [
      "2\n",
      "3\n",
      "5\n",
      "7\n",
      "11\n",
      "13\n",
      "17\n",
      "19\n",
      "23\n",
      "29\n",
      "31\n",
      "37\n",
      "41\n",
      "43\n",
      "47\n",
      "53\n",
      "59\n",
      "61\n",
      "67\n",
      "71\n"
     ]
    }
   ],
   "source": [
    "#Q5\n",
    "def prime_less_than_N(n):\n",
    "    for i in range(2,n):\n",
    "        for j in range(2,i):\n",
    "            if(i%j==0):\n",
    "                break\n",
    "        else:\n",
    "            yield i\n",
    "a=prime_less_than_N(1000)\n",
    "for i in range(20):\n",
    "    print(next(a))"
   ]
  },
  {
   "cell_type": "code",
   "execution_count": 21,
   "id": "d645330c-0e7a-4509-b14d-33567216ff58",
   "metadata": {},
   "outputs": [
    {
     "name": "stdout",
     "output_type": "stream",
     "text": [
      "0\n",
      "1\n",
      "1\n",
      "2\n",
      "3\n",
      "5\n",
      "8\n",
      "13\n",
      "21\n",
      "34\n"
     ]
    }
   ],
   "source": [
    "#Q6\n",
    "a=0\n",
    "b=1\n",
    "i=0\n",
    "while i<10:\n",
    "    print(a)\n",
    "    c=a+b\n",
    "    a=b\n",
    "    b=c\n",
    "    i=i+1"
   ]
  },
  {
   "cell_type": "code",
   "execution_count": 22,
   "id": "d83a5dc3-f907-49ce-8e48-f3e3a6db290c",
   "metadata": {},
   "outputs": [
    {
     "data": {
      "text/plain": [
       "['p', 'w', 's', 'k', 'i', 'l', 'l', 's']"
      ]
     },
     "execution_count": 22,
     "metadata": {},
     "output_type": "execute_result"
    }
   ],
   "source": [
    "#Q7\n",
    "s=\"pwskills\"\n",
    "l=[i for i in s]\n",
    "l"
   ]
  },
  {
   "cell_type": "code",
   "execution_count": 27,
   "id": "4cbabd8b-9535-4da1-93a3-cecc802d7eb9",
   "metadata": {},
   "outputs": [
    {
     "name": "stdin",
     "output_type": "stream",
     "text": [
      "Enter the number 153\n"
     ]
    },
    {
     "name": "stdout",
     "output_type": "stream",
     "text": [
      "It is not a palindrome\n"
     ]
    }
   ],
   "source": [
    "#Q8\n",
    "a=int(input(\"Enter the number\"))\n",
    "test=a\n",
    "ans=0\n",
    "while test>0:\n",
    "    m=test%10\n",
    "    ans=(ans*10)+m\n",
    "    test=int(test/10)\n",
    "if ans==a:\n",
    "    print(\"It is a palindrome\")\n",
    "else:\n",
    "    print(\"It is not a palindrome\")"
   ]
  },
  {
   "cell_type": "code",
   "execution_count": 29,
   "id": "b2afc469-18a7-4aab-898e-934fa91a6163",
   "metadata": {},
   "outputs": [
    {
     "data": {
      "text/plain": [
       "[1,\n",
       " 3,\n",
       " 5,\n",
       " 7,\n",
       " 9,\n",
       " 11,\n",
       " 13,\n",
       " 15,\n",
       " 17,\n",
       " 19,\n",
       " 21,\n",
       " 23,\n",
       " 25,\n",
       " 27,\n",
       " 29,\n",
       " 31,\n",
       " 33,\n",
       " 35,\n",
       " 37,\n",
       " 39,\n",
       " 41,\n",
       " 43,\n",
       " 45,\n",
       " 47,\n",
       " 49,\n",
       " 51,\n",
       " 53,\n",
       " 55,\n",
       " 57,\n",
       " 59,\n",
       " 61,\n",
       " 63,\n",
       " 65,\n",
       " 67,\n",
       " 69,\n",
       " 71,\n",
       " 73,\n",
       " 75,\n",
       " 77,\n",
       " 79,\n",
       " 81,\n",
       " 83,\n",
       " 85,\n",
       " 87,\n",
       " 89,\n",
       " 91,\n",
       " 93,\n",
       " 95,\n",
       " 97,\n",
       " 99]"
      ]
     },
     "execution_count": 29,
     "metadata": {},
     "output_type": "execute_result"
    }
   ],
   "source": [
    "#q9\n",
    "l=[i for i in range(1,101)]\n",
    "l1=[i for i in l if i%2!=0]\n",
    "l1"
   ]
  },
  {
   "cell_type": "code",
   "execution_count": null,
   "id": "bdbb1092-33de-43d5-a867-134569d94462",
   "metadata": {},
   "outputs": [],
   "source": []
  }
 ],
 "metadata": {
  "kernelspec": {
   "display_name": "Python 3 (ipykernel)",
   "language": "python",
   "name": "python3"
  },
  "language_info": {
   "codemirror_mode": {
    "name": "ipython",
    "version": 3
   },
   "file_extension": ".py",
   "mimetype": "text/x-python",
   "name": "python",
   "nbconvert_exporter": "python",
   "pygments_lexer": "ipython3",
   "version": "3.10.8"
  }
 },
 "nbformat": 4,
 "nbformat_minor": 5
}
