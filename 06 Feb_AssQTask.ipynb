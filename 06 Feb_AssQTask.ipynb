{
 "cells": [
  {
   "cell_type": "code",
   "execution_count": 67,
   "id": "4ffc3afe-661d-4ac5-970e-9e75a6065fe5",
   "metadata": {},
   "outputs": [],
   "source": [
    "#Q1\n",
    "def f(enter_list):\n",
    "    flat_list=[]\n",
    "    for i in enter_list:\n",
    "        if(type(i)==int):\n",
    "            flat_list.append(i)\n",
    "        elif(type(i)==bool):\n",
    "            pass\n",
    "        elif(type(i)==dict):\n",
    "            flat_list.extend(list(i.keys()))\n",
    "            flat_list.extend(list(i.values()))\n",
    "        else:\n",
    "            flat_list.extend(list(i))\n",
    "    for i in flat_list:\n",
    "        if(type(i)==list or type(i)==tuple):\n",
    "            flat_list.extend(i)\n",
    "    ans=1\n",
    "    for i in flat_list:\n",
    "        if(type(i)==int):\n",
    "            ans=ans*i\n",
    "    ans=ans*6\n",
    "    print(ans)\n"
   ]
  },
  {
   "cell_type": "code",
   "execution_count": 68,
   "id": "a4642e4e-f263-4c0b-a4e2-30b50d4cace5",
   "metadata": {},
   "outputs": [
    {
     "name": "stdout",
     "output_type": "stream",
     "text": [
      "24808271033922512873003047452672000\n"
     ]
    }
   ],
   "source": [
    "list1 = [1,2,3,4, [44,55,66,True],False,  (34,56,78,89,34), {1,2,3,3,2,1},{1:34, \"key2\": [55, 67, 78, 89], 4: (45,\n",
    "22, 61, 34)}, [56, 'data science'], 'Machine Learning']\n",
    " \n",
    "f(list1)\n"
   ]
  },
  {
   "cell_type": "code",
   "execution_count": 69,
   "id": "932ec6e6-a286-4b00-888c-5d2d7b2fd2c8",
   "metadata": {},
   "outputs": [],
   "source": [
    "#chr(ord(\"z\")-(ord(\"c\")-ord(\"a\")))"
   ]
  },
  {
   "cell_type": "code",
   "execution_count": 70,
   "id": "d948bab3-4222-4e58-8942-7267070baae9",
   "metadata": {},
   "outputs": [
    {
     "name": "stdout",
     "output_type": "stream",
     "text": [
      "r$dzmg$gl$yvxlnv$z$wzgz$hxrvmgrhg\n"
     ]
    }
   ],
   "source": [
    "#Q2\n",
    "to_be_encrypted=\"I want to become a Data Scientist\"\n",
    "l=[]\n",
    "for i in to_be_encrypted.lower():\n",
    "    if(i==\" \"):\n",
    "        l.append(\"$\")\n",
    "    else:\n",
    "        l.append(chr(ord(\"z\")-(ord(i)-ord(\"a\"))))\n",
    "        \n",
    "ans=\"\".join(l)\n",
    "print(ans)"
   ]
  },
  {
   "cell_type": "code",
   "execution_count": null,
   "id": "846b5ed3-bec9-471a-a8e3-678d28998208",
   "metadata": {},
   "outputs": [],
   "source": []
  }
 ],
 "metadata": {
  "kernelspec": {
   "display_name": "Python 3 (ipykernel)",
   "language": "python",
   "name": "python3"
  },
  "language_info": {
   "codemirror_mode": {
    "name": "ipython",
    "version": 3
   },
   "file_extension": ".py",
   "mimetype": "text/x-python",
   "name": "python",
   "nbconvert_exporter": "python",
   "pygments_lexer": "ipython3",
   "version": "3.10.8"
  }
 },
 "nbformat": 4,
 "nbformat_minor": 5
}
