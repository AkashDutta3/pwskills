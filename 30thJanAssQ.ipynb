{
 "cells": [
  {
   "cell_type": "code",
   "execution_count": 16,
   "id": "2b91dd38-f4e5-417f-ba21-401744d8bd29",
   "metadata": {},
   "outputs": [
    {
     "name": "stdin",
     "output_type": "stream",
     "text": [
      "Enter percentage of marks 30\n"
     ]
    },
    {
     "name": "stdout",
     "output_type": "stream",
     "text": [
      "D\n"
     ]
    }
   ],
   "source": [
    "#Q1\n",
    "a=int(input(\"Enter percentage of marks\"))\n",
    "if(a>90):\n",
    "    print(\"A\")\n",
    "elif 80<a<=90:\n",
    "    print(\"B\")\n",
    "elif 60<=a<=80:\n",
    "    print(\"C\")\n",
    "else:\n",
    "    print(\"D\")"
   ]
  },
  {
   "cell_type": "code",
   "execution_count": 17,
   "id": "0352419e-92c4-459e-9118-77893e4835f8",
   "metadata": {},
   "outputs": [
    {
     "name": "stdin",
     "output_type": "stream",
     "text": [
      "Enter the cost price of bike: 111\n"
     ]
    },
    {
     "name": "stdout",
     "output_type": "stream",
     "text": [
      "The road tax to be paid: 5.550000000000001\n"
     ]
    }
   ],
   "source": [
    "#Q2\n",
    "cp=int(input(\"Enter the cost price of bike:\"))\n",
    "if (cp>100000):\n",
    "    print(\"The road tax to be paid:\",0.15*cp)\n",
    "elif(50000<cp<=100000):\n",
    "    print(\"The road tax to be paid:\",0.1*cp)\n",
    "else:\n",
    "    print(\"The road tax to be paid:\",0.05*cp)\n",
    "    \n",
    "    "
   ]
  },
  {
   "cell_type": "code",
   "execution_count": 18,
   "id": "62cb9f8a-501d-43ae-a5af-fb49710160ca",
   "metadata": {},
   "outputs": [
    {
     "name": "stdin",
     "output_type": "stream",
     "text": [
      "Enter city name: delhi\n"
     ]
    },
    {
     "name": "stdout",
     "output_type": "stream",
     "text": [
      "Red Fort\n"
     ]
    }
   ],
   "source": [
    "#Q3\n",
    "city=input(\"Enter city name:\")\n",
    "\n",
    "if city.capitalize()==\"Delhi\":\n",
    "    print(\"Red Fort\")\n",
    "elif city.capitalize()==\"Agra\":\n",
    "    print(\"Taj Mahal\")\n",
    "elif city.capitalize()==\"Jaipur\":\n",
    "    print(\"Jai Mahal\")"
   ]
  },
  {
   "cell_type": "code",
   "execution_count": 19,
   "id": "1049d50f-f51f-4dcf-b61e-885b0fbd9e56",
   "metadata": {},
   "outputs": [
    {
     "name": "stdout",
     "output_type": "stream",
     "text": [
      "1\n"
     ]
    }
   ],
   "source": [
    "#Q4\n",
    "n=30\n",
    "counter=0\n",
    "while(n>10):\n",
    "    counter+=1\n",
    "    n=n/3\n",
    "print(counter)    "
   ]
  },
  {
   "cell_type": "code",
   "execution_count": 20,
   "id": "247d73a6-75c0-47b7-8632-80503a1a0b38",
   "metadata": {},
   "outputs": [
    {
     "name": "stdout",
     "output_type": "stream",
     "text": [
      "4\n"
     ]
    }
   ],
   "source": [
    "#Q5\n",
    "'''While Loop is used when we want to run a loop until a condition is met and dont know how may times the loop has to be run'''\n",
    "#Example to calculate the number of digits in a number\n",
    "n=1222\n",
    "\n",
    "count=0;\n",
    "while(n>0):\n",
    "    count+=1;\n",
    "    n=int(n/10)\n",
    "print(count)    "
   ]
  },
  {
   "cell_type": "code",
   "execution_count": 25,
   "id": "40d188c4-c844-4d9a-8f3a-32c30d3598d4",
   "metadata": {},
   "outputs": [
    {
     "name": "stdout",
     "output_type": "stream",
     "text": [
      "***\n",
      "**\n",
      "*\n"
     ]
    }
   ],
   "source": [
    "#Q6\n",
    "i=3\n",
    "\n",
    "while(i>0):\n",
    "    j=0\n",
    "    while(j<i):\n",
    "        print(\"*\",end=\"\")\n",
    "        j+=1\n",
    "    print()\n",
    "    i-=1"
   ]
  },
  {
   "cell_type": "code",
   "execution_count": 24,
   "id": "3ed25ec7-f252-4fab-a1b6-ed1e02f44f58",
   "metadata": {},
   "outputs": [
    {
     "name": "stdout",
     "output_type": "stream",
     "text": [
      "10\n",
      "9\n",
      "8\n",
      "7\n",
      "6\n",
      "5\n",
      "4\n",
      "3\n",
      "2\n",
      "1\n"
     ]
    }
   ],
   "source": [
    "#Q7\n",
    "i=10\n",
    "while(i>0):\n",
    "    print(i)\n",
    "    i-=1"
   ]
  },
  {
   "cell_type": "code",
   "execution_count": null,
   "id": "dc9fb493-ceaa-4c52-8dbf-a0472bac5577",
   "metadata": {},
   "outputs": [],
   "source": []
  }
 ],
 "metadata": {
  "kernelspec": {
   "display_name": "Python 3 (ipykernel)",
   "language": "python",
   "name": "python3"
  },
  "language_info": {
   "codemirror_mode": {
    "name": "ipython",
    "version": 3
   },
   "file_extension": ".py",
   "mimetype": "text/x-python",
   "name": "python",
   "nbconvert_exporter": "python",
   "pygments_lexer": "ipython3",
   "version": "3.10.8"
  }
 },
 "nbformat": 4,
 "nbformat_minor": 5
}
