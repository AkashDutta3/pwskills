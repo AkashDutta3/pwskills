{
 "cells": [
  {
   "cell_type": "code",
   "execution_count": 6,
   "id": "068ebc31-f83e-4959-9847-346e48e54f51",
   "metadata": {},
   "outputs": [],
   "source": [
    "#Q1\n",
    "'''Abstraction in OOPS means hiding important background details and providing only the necessary features'''\n",
    "#Example\n",
    "#Creating an Abstract Class-> StartUp\n",
    "import abc\n",
    "class StartUp:\n",
    "    @abc.abstractmethod\n",
    "    def Sector(self):\n",
    "        pass\n",
    "        \n"
   ]
  },
  {
   "cell_type": "code",
   "execution_count": 3,
   "id": "1901faf7-c2e2-43c3-94bc-83013434ae8d",
   "metadata": {},
   "outputs": [
    {
     "name": "stdout",
     "output_type": "stream",
     "text": [
      "Edtech\n",
      "Fintech\n",
      "FoodDelivery\n"
     ]
    }
   ],
   "source": [
    "class PhysicsWallah(StartUp):\n",
    "    def Sector(self):\n",
    "        return \"Edtech\"\n",
    "class BharatPe(StartUp):\n",
    "    def Sector(self):\n",
    "        return \"Fintech\"\n",
    "class Zomato(StartUp):\n",
    "    def Sector(self):\n",
    "        return \"FoodDelivery\"\n",
    "P=PhysicsWallah()\n",
    "print(P.Sector())\n",
    "B=BharatPe()\n",
    "print(B.Sector())\n",
    "Z=Zomato()\n",
    "print(Z.Sector())"
   ]
  },
  {
   "cell_type": "code",
   "execution_count": 7,
   "id": "c99913c4-03b5-4aed-94c4-7a7694e3d40d",
   "metadata": {},
   "outputs": [
    {
     "data": {
      "text/plain": [
       "'A real-life example of abstraction is a car. The user only needs to know how to drive it without knowing how it works internally'"
      ]
     },
     "execution_count": 7,
     "metadata": {},
     "output_type": "execute_result"
    }
   ],
   "source": [
    "#Q2\n",
    "'''Encapsulation means Binding data of an object to a function/method.It leads to data protection.\n",
    "whereas Abstraction means Hiding implementation details and showing only a blueprunt'''\n",
    "'''A real-life example of encapsulation is a capsule that contains different medicines.\n",
    "The capsule is an encapsulated object that contains different attributes such as color, size, and shape.\n",
    "The user does not need to know the internal working of the capsule to operate it.'''\n",
    "'''A real-life example of abstraction is a car. The user only needs to know how to drive it without knowing how it works internally'''"
   ]
  },
  {
   "cell_type": "code",
   "execution_count": 8,
   "id": "1bc827d2-6da8-4ba6-95ad-2eb7ebe2338a",
   "metadata": {},
   "outputs": [
    {
     "data": {
      "text/plain": [
       "'No we cannot create a instance of an abstract class as it a template which can be used for creating subclasses.The subclasses can be instantiated'"
      ]
     },
     "execution_count": 8,
     "metadata": {},
     "output_type": "execute_result"
    }
   ],
   "source": [
    "#Q3\n",
    "'''abc module in python library provides a structure to write custom abstract base classes'''\n",
    "#Q4\n",
    "'''we can achieve abstraction by creating a abstract base class containing abstract methods  and then defining those abstract methods in \n",
    "subclasses which inherit the abstract class'''\n",
    "#Q5\n",
    "'''No we cannot create a instance of an abstract class as it a template which can be used for creating subclasses.The subclasses can be instantiated'''"
   ]
  },
  {
   "cell_type": "code",
   "execution_count": null,
   "id": "81915c09-0e8a-429d-a12b-ee573902f74c",
   "metadata": {},
   "outputs": [],
   "source": []
  }
 ],
 "metadata": {
  "kernelspec": {
   "display_name": "Python 3 (ipykernel)",
   "language": "python",
   "name": "python3"
  },
  "language_info": {
   "codemirror_mode": {
    "name": "ipython",
    "version": 3
   },
   "file_extension": ".py",
   "mimetype": "text/x-python",
   "name": "python",
   "nbconvert_exporter": "python",
   "pygments_lexer": "ipython3",
   "version": "3.10.8"
  }
 },
 "nbformat": 4,
 "nbformat_minor": 5
}
