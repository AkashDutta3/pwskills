{
 "cells": [
  {
   "cell_type": "code",
   "execution_count": 1,
   "id": "9e9d35d6-67f2-478b-ace1-16e7adbf95bc",
   "metadata": {},
   "outputs": [
    {
     "data": {
      "text/plain": [
       "'Class is a classification of a real world entity while object is a real world entity.Object is an instance of a class.\\nClass is an user defined datatype and object is a variable of that datatype.For example--Fruit is a class and mango is an object of class Fruit.'"
      ]
     },
     "execution_count": 1,
     "metadata": {},
     "output_type": "execute_result"
    }
   ],
   "source": [
    "#Q1\n",
    "\"\"\"Class is a classification of a real world entity while object is a real world entity.Object is an instance of a class.\n",
    "Class is an user defined datatype and object is a variable of that datatype.For example--Fruit is a class and mango is an object of class Fruit.\"\"\"\n"
   ]
  },
  {
   "cell_type": "code",
   "execution_count": 2,
   "id": "ccd1d499-e8e0-4d96-a7a7-4bccaac13cde",
   "metadata": {},
   "outputs": [
    {
     "data": {
      "text/plain": [
       "' Polymorphism,Encapsulation,Inheritance,Abstraction'"
      ]
     },
     "execution_count": 2,
     "metadata": {},
     "output_type": "execute_result"
    }
   ],
   "source": [
    "#Q2\n",
    "''' Polymorphism,Encapsulation,Inheritance,Abstraction'''"
   ]
  },
  {
   "cell_type": "code",
   "execution_count": 3,
   "id": "c54871ec-c7a7-4e4c-83da-4eebe30573e9",
   "metadata": {},
   "outputs": [
    {
     "data": {
      "text/plain": [
       "('Akash Dutta', 2212133)"
      ]
     },
     "execution_count": 3,
     "metadata": {},
     "output_type": "execute_result"
    }
   ],
   "source": [
    "#Q3\n",
    "'''__init__ function is used to initialize an object with some values'''\n",
    "#Example->\n",
    "class student:\n",
    "    def __init__(self,name,scholar_id):\n",
    "        self.name=name\n",
    "        self.scholar_id=scholar_id\n",
    "    def return_details(self):\n",
    "        return self.name,self.scholar_id\n",
    "a=student(\"Akash Dutta\",2212133)\n",
    "a.return_details()"
   ]
  },
  {
   "cell_type": "code",
   "execution_count": 4,
   "id": "49858232-a03e-4b63-91ae-7a807ae7ad10",
   "metadata": {},
   "outputs": [
    {
     "data": {
      "text/plain": [
       "'self is used to bind method/function to a class'"
      ]
     },
     "execution_count": 4,
     "metadata": {},
     "output_type": "execute_result"
    }
   ],
   "source": [
    "#Q4\n",
    "'''self is used to bind method/function to a class'''"
   ]
  },
  {
   "cell_type": "code",
   "execution_count": 5,
   "id": "ed841338-767e-41d3-ba13-ed0aeb84355d",
   "metadata": {},
   "outputs": [
    {
     "name": "stdout",
     "output_type": "stream",
     "text": [
      "This is parent class\n",
      "This is child class\n"
     ]
    }
   ],
   "source": [
    "#Q5\n",
    "'''Inheritance is a phenomenon in which one class inherits the properties/data and methods/functions of another class'''\n",
    "'''TYPES OF INHERITANCE'''\n",
    "#Single inheritance->one base class,one derived class\n",
    "class parent:\n",
    "    print(\"This is parent class\")\n",
    "class child(parent) :\n",
    "    print(\"This is child class\")\n",
    "a=child()    \n"
   ]
  },
  {
   "cell_type": "code",
   "execution_count": 6,
   "id": "f75a90e9-2b3c-4577-811f-41b46958d6d6",
   "metadata": {},
   "outputs": [
    {
     "name": "stdout",
     "output_type": "stream",
     "text": [
      "This is my grandfather class\n",
      "This is my father class\n",
      "This is my class\n"
     ]
    }
   ],
   "source": [
    "#MultiLevel inheritance->base class is derived from another class\n",
    "class grandfather:\n",
    "    print(\"This is my grandfather class\")\n",
    "class father(grandfather):\n",
    "    print(\"This is my father class\")\n",
    "class son(father):\n",
    "    print(\"This is my class\")\n",
    "me=son()    "
   ]
  },
  {
   "cell_type": "code",
   "execution_count": 7,
   "id": "9ffb075f-f39f-422c-ba56-fab676e3bdc7",
   "metadata": {},
   "outputs": [
    {
     "name": "stdout",
     "output_type": "stream",
     "text": [
      "This is father class\n",
      "This is mother class\n",
      "This is child class\n"
     ]
    }
   ],
   "source": [
    "#Multiple inheritance->one class inherits from many classes\n",
    "class father:\n",
    "    print(\"This is father class\")\n",
    "class mother :\n",
    "    print(\"This is mother class\") \n",
    "class child(father,mother) :\n",
    "    print(\"This is child class\")  \n",
    "d=child()    "
   ]
  },
  {
   "cell_type": "code",
   "execution_count": 11,
   "id": "7b23ca53-7876-4bbf-9d27-859c2d7fa2d2",
   "metadata": {},
   "outputs": [
    {
     "name": "stdout",
     "output_type": "stream",
     "text": [
      "This is parent class\n",
      "This is child1 class\n",
      "This is parent class\n",
      "This is child2 class\n"
     ]
    }
   ],
   "source": [
    "#Hierchical Inheritance->one parent class ,multiple child classes\n",
    "class parent:\n",
    "    def p_func(self):\n",
    "        print(\"This is parent class\")\n",
    "class child1(parent) :\n",
    "    def c1_func(self):\n",
    "        print(\"This is child1 class\")\n",
    "class child2(parent) :\n",
    "    def c2_func(self):\n",
    "        print(\"This is child2 class\") \n",
    "m=child1()\n",
    "n=child2()\n",
    "m.p_func()\n",
    "m.c1_func()\n",
    "n.p_func()\n",
    "n.c2_func()\n"
   ]
  },
  {
   "cell_type": "code",
   "execution_count": 12,
   "id": "e66a9b9c-c4db-4a9a-917c-f472bffaac71",
   "metadata": {},
   "outputs": [
    {
     "name": "stdout",
     "output_type": "stream",
     "text": [
      "This is father class\n",
      "This is mother class\n",
      "This is child class\n",
      "This is grandchild class\n"
     ]
    }
   ],
   "source": [
    "#Hybrid inheritance->mixture of more than one type of inheritance\n",
    "class father:\n",
    "    print(\"This is father class\")\n",
    "class mother :\n",
    "    print(\"This is mother class\") \n",
    "class child(father,mother) :\n",
    "    print(\"This is child class\") \n",
    "class grandchild(child):\n",
    "    print(\"This is grandchild class\")\n",
    "t=grandchild()    "
   ]
  },
  {
   "cell_type": "code",
   "execution_count": null,
   "id": "512fc2b5-64e6-4e2f-94bd-86af7b31aa13",
   "metadata": {},
   "outputs": [],
   "source": []
  }
 ],
 "metadata": {
  "kernelspec": {
   "display_name": "Python 3 (ipykernel)",
   "language": "python",
   "name": "python3"
  },
  "language_info": {
   "codemirror_mode": {
    "name": "ipython",
    "version": 3
   },
   "file_extension": ".py",
   "mimetype": "text/x-python",
   "name": "python",
   "nbconvert_exporter": "python",
   "pygments_lexer": "ipython3",
   "version": "3.10.8"
  }
 },
 "nbformat": 4,
 "nbformat_minor": 5
}
