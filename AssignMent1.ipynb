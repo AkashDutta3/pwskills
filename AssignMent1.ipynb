{
 "cells": [
  {
   "cell_type": "code",
   "execution_count": null,
   "id": "4873a453-be9e-45eb-a570-d6e7a5794c35",
   "metadata": {},
   "outputs": [],
   "source": [
    "#Q1\n",
    "\"\"\"We use for loop when we exactly know how many number of times we have to iterate.But in case of while loop we iterate until a condition is met irrespective of the number of times the loop runs.\n",
    "For example, we use for loop to find the sum of first n natural numbers.On the o"
   ]
  },
  {
   "cell_type": "code",
   "execution_count": 1,
   "id": "9f702f4b-2c70-446e-adff-a0cbd8c8bfed",
   "metadata": {},
   "outputs": [],
   "source": [
    "#Q2"
   ]
  },
  {
   "cell_type": "code",
   "execution_count": 2,
   "id": "a8bfea96-9aaa-4e35-b9c1-b22274c3dab3",
   "metadata": {},
   "outputs": [],
   "source": [
    "sum=0"
   ]
  },
  {
   "cell_type": "code",
   "execution_count": 3,
   "id": "f2c484a1-4e64-4459-bf18-da3ab601f8ca",
   "metadata": {},
   "outputs": [],
   "source": [
    "for i in range(1,11):\n",
    "    sum=sum+i"
   ]
  },
  {
   "cell_type": "code",
   "execution_count": 4,
   "id": "b6fff566-b745-4886-a9b8-766ac9e2b2fa",
   "metadata": {},
   "outputs": [
    {
     "data": {
      "text/plain": [
       "55"
      ]
     },
     "execution_count": 4,
     "metadata": {},
     "output_type": "execute_result"
    }
   ],
   "source": [
    "sum"
   ]
  },
  {
   "cell_type": "code",
   "execution_count": 5,
   "id": "554ccf94-cdda-4b86-8020-64b5606b3fc8",
   "metadata": {},
   "outputs": [],
   "source": [
    "product=1"
   ]
  },
  {
   "cell_type": "code",
   "execution_count": 6,
   "id": "01c4ef17-5ff8-453f-990d-d3d88e21ed35",
   "metadata": {},
   "outputs": [],
   "source": [
    "for i in range(1,11):\n",
    "    product=product*i"
   ]
  },
  {
   "cell_type": "code",
   "execution_count": 7,
   "id": "96c1c51e-2d95-48dc-9c36-73e9f49ba51e",
   "metadata": {},
   "outputs": [
    {
     "data": {
      "text/plain": [
       "3628800"
      ]
     },
     "execution_count": 7,
     "metadata": {},
     "output_type": "execute_result"
    }
   ],
   "source": [
    "product"
   ]
  },
  {
   "cell_type": "code",
   "execution_count": 8,
   "id": "87f3d4a3-fc69-45b1-ac46-eb3bd43e5cb0",
   "metadata": {},
   "outputs": [
    {
     "name": "stdout",
     "output_type": "stream",
     "text": [
      "55\n"
     ]
    }
   ],
   "source": [
    "sum_w=0;\n",
    "counter=1;\n",
    "while counter<=10:\n",
    "    sum_w=sum_w+counter\n",
    "    counter=counter+1\n",
    "print(sum_w)    "
   ]
  },
  {
   "cell_type": "code",
   "execution_count": 9,
   "id": "e5e5d100-a55c-4bdf-a4a5-69dc2b1567f9",
   "metadata": {},
   "outputs": [
    {
     "name": "stdout",
     "output_type": "stream",
     "text": [
      "3628800\n"
     ]
    }
   ],
   "source": [
    "product_w=1\n",
    "counter=1\n",
    "while counter<=10:\n",
    "    product_w=product_w*counter\n",
    "    counter=counter+1\n",
    "print(product_w)    "
   ]
  },
  {
   "cell_type": "code",
   "execution_count": 10,
   "id": "c9731732-2c1e-454b-91c1-2b2d6e0baecb",
   "metadata": {},
   "outputs": [
    {
     "data": {
      "text/plain": [
       "3628800"
      ]
     },
     "execution_count": 10,
     "metadata": {},
     "output_type": "execute_result"
    }
   ],
   "source": [
    "product"
   ]
  },
  {
   "cell_type": "code",
   "execution_count": 11,
   "id": "533e5351-ff5b-41e8-b9a2-5b3430552132",
   "metadata": {},
   "outputs": [],
   "source": [
    "#Q3"
   ]
  },
  {
   "cell_type": "code",
   "execution_count": 15,
   "id": "98127424-2340-43b6-a131-d3bd5f9fbbab",
   "metadata": {},
   "outputs": [
    {
     "name": "stdin",
     "output_type": "stream",
     "text": [
      "enter the unit of electricity 310\n"
     ]
    },
    {
     "name": "stdout",
     "output_type": "stream",
     "text": [
      "2250.0\n"
     ]
    }
   ],
   "source": [
    "unit = int(input(\"enter the unit of electricity\"))\n",
    "ans=0\n",
    "for i in range(1,unit+1):\n",
    "    if i<=100:\n",
    "        ans=ans + 4.5\n",
    "    elif i>100 and i<=200:\n",
    "        ans = ans + 6\n",
    "    elif i>200 and i<=300:\n",
    "        ans=ans + 10\n",
    "    else:\n",
    "        ans = ans+ 20\n",
    "print(ans)        "
   ]
  },
  {
   "cell_type": "code",
   "execution_count": 16,
   "id": "49ffba71-8a25-4266-8358-1c30ab6c2ad0",
   "metadata": {},
   "outputs": [],
   "source": [
    "#Q4"
   ]
  },
  {
   "cell_type": "code",
   "execution_count": 17,
   "id": "a8863a40-323f-4171-8ce3-4103dd73caba",
   "metadata": {},
   "outputs": [
    {
     "data": {
      "text/plain": [
       "[8,\n",
       " 64,\n",
       " 125,\n",
       " 216,\n",
       " 512,\n",
       " 1000,\n",
       " 1728,\n",
       " 2744,\n",
       " 3375,\n",
       " 4096,\n",
       " 5832,\n",
       " 8000,\n",
       " 10648,\n",
       " 13824,\n",
       " 15625,\n",
       " 17576,\n",
       " 21952,\n",
       " 27000,\n",
       " 32768,\n",
       " 39304,\n",
       " 42875,\n",
       " 46656,\n",
       " 54872,\n",
       " 64000,\n",
       " 74088,\n",
       " 85184,\n",
       " 91125,\n",
       " 97336,\n",
       " 110592,\n",
       " 125000,\n",
       " 140608,\n",
       " 157464,\n",
       " 166375,\n",
       " 175616,\n",
       " 195112,\n",
       " 216000,\n",
       " 238328,\n",
       " 262144,\n",
       " 274625,\n",
       " 287496,\n",
       " 314432,\n",
       " 343000,\n",
       " 373248,\n",
       " 405224,\n",
       " 421875,\n",
       " 438976,\n",
       " 474552,\n",
       " 512000,\n",
       " 551368,\n",
       " 592704,\n",
       " 614125,\n",
       " 636056,\n",
       " 681472,\n",
       " 729000,\n",
       " 778688,\n",
       " 830584,\n",
       " 857375,\n",
       " 884736,\n",
       " 941192,\n",
       " 1000000]"
      ]
     },
     "execution_count": 17,
     "metadata": {},
     "output_type": "execute_result"
    }
   ],
   "source": [
    "l=[]\n",
    "l1=[]\n",
    "for i in range(1,101):\n",
    "    l.append(i)\n",
    "for i in range(len(l)):\n",
    "    if (l[i]**3)%4==0 or(l[i]**3)%5==0 :\n",
    "        l1.append(l[i]**3)\n",
    "l1        "
   ]
  },
  {
   "cell_type": "code",
   "execution_count": null,
   "id": "0f506915-03d8-40a1-bf8f-668d706e51f7",
   "metadata": {},
   "outputs": [],
   "source": [
    "#Q5"
   ]
  },
  {
   "cell_type": "code",
   "execution_count": 1,
   "id": "b2b20f80-3bf5-44bf-8b92-7fe8bfcbf6bd",
   "metadata": {},
   "outputs": [
    {
     "data": {
      "text/plain": [
       "12"
      ]
     },
     "execution_count": 1,
     "metadata": {},
     "output_type": "execute_result"
    }
   ],
   "source": [
    "str=\"I want to become a data scientist\"\n",
    "ans=0\n",
    "\n",
    "for i in str.lower():\n",
    "    if i=='a'or i=='e'or i=='i'or i=='o'or i=='u':\n",
    "        ans=ans+1;\n",
    "ans        "
   ]
  },
  {
   "cell_type": "code",
   "execution_count": null,
   "id": "6ea1ff69-de2f-4c7a-ad9b-5a5215688621",
   "metadata": {},
   "outputs": [],
   "source": []
  }
 ],
 "metadata": {
  "kernelspec": {
   "display_name": "Python 3 (ipykernel)",
   "language": "python",
   "name": "python3"
  },
  "language_info": {
   "codemirror_mode": {
    "name": "ipython",
    "version": 3
   },
   "file_extension": ".py",
   "mimetype": "text/x-python",
   "name": "python",
   "nbconvert_exporter": "python",
   "pygments_lexer": "ipython3",
   "version": "3.10.8"
  }
 },
 "nbformat": 4,
 "nbformat_minor": 5
}
